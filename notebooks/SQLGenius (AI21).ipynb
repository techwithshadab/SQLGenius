{
 "cells": [
  {
   "cell_type": "code",
   "execution_count": 1,
   "id": "34c29349-b7bf-4fdc-bd15-4bcb8929e6a0",
   "metadata": {},
   "outputs": [],
   "source": [
    "# ! pip install langchain streamlit==1.24.0 snowflake-connector-python ai21\n",
    "# ! pip install -U pyarrow"
   ]
  },
  {
   "cell_type": "code",
   "execution_count": 1,
   "id": "0fa22358",
   "metadata": {},
   "outputs": [
    {
     "name": "stdout",
     "output_type": "stream",
     "text": [
      "········\n"
     ]
    }
   ],
   "source": [
    "# Enter your AI21 API Key\n",
    "from getpass import getpass\n",
    "\n",
    "AI21_API_KEY = getpass()"
   ]
  },
  {
   "cell_type": "code",
   "execution_count": 12,
   "id": "e75c05c1-7c17-4e06-b49d-b85942a220b2",
   "metadata": {},
   "outputs": [],
   "source": [
    "# Define Snowflake Credentials, table and column details here\n",
    "sf_dict = {'user': 'username', 'password': 'password', 'account': 'account',\n",
    "           'role': 'ACCOUNTADMIN', 'warehouse': 'COMPUTE_WH', 'database': 'SNOWFLAKE_SAMPLE_DATA', 'schema': 'TPCDS_SF10TCL'}\n",
    "table = '\"SNOWFLAKE_SAMPLE_DATA\".\"TPCDS_SF10TCL\".\"CATALOG_SALES\"'\n",
    "columns = [\"CS_SOLD_DATE_SK\", \"CS_SOLD_TIME_SK\", \"CS_SHIP_DATE_SK\", \"CS_BILL_CUSTOMER_SK\", \"CS_BILL_CDEMO_SK\", \n",
    "           \"CS_BILL_HDEMO_SK\", \"CS_BILL_ADDR_SK\", \"CS_SHIP_CUSTOMER_SK\", \"CS_SHIP_CDEMO_SK\", \"CS_SHIP_HDEMO_SK\", \n",
    "           \"CS_SHIP_ADDR_SK\", \"CS_CALL_CENTER_SK\", \"CS_CATALOG_PAGE_SK\", \"CS_SHIP_MODE_SK\", \"CS_WAREHOUSE_SK\", \"CS_ITEM_SK\", \n",
    "           \"CS_PROMO_SK\", \"CS_ORDER_NUMBER\", \"CS_QUANTITY\", \"CS_WHOLESALE_COST\", \"CS_LIST_PRICE\", \"CS_SALES_PRICE\", \n",
    "           \"CS_EXT_DISCOUNT_AMT\", \"CS_EXT_SALES_PRICE\", \"CS_EXT_WHOLESALE_COST\", \"CS_EXT_LIST_PRICE\", \"CS_EXT_TAX\", \n",
    "           \"CS_COUPON_AMT\", \"CS_EXT_SHIP_COST\", \"CS_NET_PAID\", \"CS_NET_PAID_INC_TAX\", \"CS_NET_PAID_INC_SHIP\", \n",
    "           \"CS_NET_PAID_INC_SHIP_TAX\", \"CS_NET_PROFIT\"]"
   ]
  },
  {
   "cell_type": "code",
   "execution_count": 2,
   "id": "cfd75f9d-abed-4c97-99ca-c2cb9643f795",
   "metadata": {},
   "outputs": [
    {
     "name": "stderr",
     "output_type": "stream",
     "text": [
      "Failed to import ArrowResult. No Apache Arrow result set format can be used. ImportError: No module named 'snowflake.connector.arrow_iterator'\n"
     ]
    }
   ],
   "source": [
    "from langchain.llms import AI21\n",
    "import streamlit as st\n",
    "from langchain import PromptTemplate, LLMChain\n",
    "from snowflake.connector import connect\n",
    "import re\n",
    "import json\n",
    "import urllib\n",
    "import pandas as pd\n",
    "import base64"
   ]
  },
  {
   "cell_type": "code",
   "execution_count": 3,
   "id": "caa58f82",
   "metadata": {},
   "outputs": [],
   "source": [
    "llm = AI21(ai21_api_key=AI21_API_KEY)"
   ]
  },
  {
   "cell_type": "code",
   "execution_count": 4,
   "id": "663c6d4c-4aac-4b19-af14-65d5fc94e936",
   "metadata": {},
   "outputs": [],
   "source": [
    "# Execute Snowflake Query\n",
    "def execute_snowflake_query(query, sf_dict):\n",
    "    # Connect to Snowflake\n",
    "    snowflake_conn = connect(\n",
    "        user=sf_dict['user'],\n",
    "        password=sf_dict['password'],\n",
    "        account=sf_dict['account'],\n",
    "        warehouse=sf_dict['warehouse'],\n",
    "        database=sf_dict['database'],\n",
    "        schema=sf_dict['schema']\n",
    "    )\n",
    "\n",
    "    # Execute the Snowflake query\n",
    "    cursor = snowflake_conn.cursor()\n",
    "    cursor.execute(query)\n",
    "    result = cursor.fetchall()\n",
    "    df = pd.DataFrame(result, columns=[desc[0] for desc in cursor.description])\n",
    "\n",
    "    # Disconnect from Snowflake\n",
    "    snowflake_conn.close()\n",
    "    return df"
   ]
  },
  {
   "cell_type": "code",
   "execution_count": 5,
   "id": "8c2b3e88-b512-49f5-b98b-3e5546a03f13",
   "metadata": {},
   "outputs": [],
   "source": [
    "def format_snowflake_query(query, column_names):\n",
    "    # Remove new line characters & leading/trailing whitespace\n",
    "    \n",
    "    for chars in [\"`\", \"sql\"]:\n",
    "        query = query.replace(\"`\", \"\")\n",
    "        \n",
    "    formatted_query = query.replace(\"\\n\", \" \").strip()\n",
    "\n",
    "    # Add a semicolon at the end of the query if missing\n",
    "    if not formatted_query.endswith(';'):\n",
    "        formatted_query += ';'\n",
    "    try:\n",
    "        # Execute Query\n",
    "        query_result = execute_snowflake_query(formatted_query, sf_dict)\n",
    "    except:\n",
    "        # Enquote column names and table name\n",
    "        formatted_query = enquote_identifiers(formatted_query, column_names)\n",
    "    return formatted_query\n",
    "\n",
    "\n",
    "def find_matching_columns(query, column_names):\n",
    "    # Construct a regular expression pattern to match the column names\n",
    "    pattern = r'\\b(?:' + '|'.join(column_names) + r')\\b'\n",
    "\n",
    "    # Find all matches of the pattern in the query\n",
    "    matches = re.findall(pattern, query, re.IGNORECASE)\n",
    "    return list(set(matches))\n",
    "\n",
    "\n",
    "def replace_word(query, word_to_replace, replacement):\n",
    "    pattern = r\"(?<![A-Za-z])\" + re.escape(word_to_replace) + r\"(?![A-Za-z])\"\n",
    "    replaced_query = re.sub(pattern, replacement, query)\n",
    "    return replaced_query\n",
    "\n",
    "\n",
    "def remove_extra_spaces(query):\n",
    "    cleaned_query = re.sub(r'\\s+', ' ', query)\n",
    "    return cleaned_query.strip()\n",
    "\n",
    "\n",
    "def enquote_identifiers(query, column_names):\n",
    "    def enquote(column_name):\n",
    "        if column_name[0] == ('\\\"') and column_name[-1] == ('\\\"'):\n",
    "            return column_name\n",
    "        else:\n",
    "            return f'\"{column_name}\"'\n",
    "\n",
    "    matched_columns = find_matching_columns(query, column_names)\n",
    "    # Enquote column names\n",
    "    for column_name in matched_columns:\n",
    "        formatted_column_name = enquote(column_name)\n",
    "        query = replace_word(query, column_name, formatted_column_name)\n",
    "\n",
    "    query = remove_extra_spaces(query)\n",
    "    return query"
   ]
  },
  {
   "cell_type": "code",
   "execution_count": 11,
   "id": "3e7b07cf-c5e0-4bb9-b2bd-6d79a9a8c6ea",
   "metadata": {},
   "outputs": [],
   "source": [
    "def results_from_snowflake(question, sf_dict, table, columns):\n",
    "    '''\n",
    "    This function will take the user question and return the result from Snowflake table.\n",
    "    '''\n",
    "    llm_code = llm\n",
    "    llm_text = llm\n",
    "\n",
    "    # SQL Prompt\n",
    "    query_template = \"\"\"\n",
    "    Generate a Snowflake query for the below table, schema and question:\\n\n",
    "    - Table name {Table}\\n\n",
    "    - List of columns: {Columns}\\n\n",
    "    - Question: {question}\\n\n",
    "\n",
    "    Query should adhere to the following rules:\\n\n",
    "    - Column names should be case sensitive.\\n\n",
    "    - Don't Order the results if not necessary.\\n\n",
    "    - Ensure proper filtering conditions are applied to retrieve the desired subset of data.\\n\n",
    "    - Don't use groupby and where if not needed.\\n\n",
    "    - Table names to be wrapped in double quotes.\\n\n",
    "    - Enquote database and schema also in double quotes.\\n\n",
    "    - Don't add any additional keyword like copy and all if not added.\\n\n",
    "    - Don't add any braces unnecessarily.\\n\n",
    "    - Ensure groupby or where if used are applied properly.\\n\n",
    "    - Don't add any numbers unnecessarily.\\n\n",
    "    Please provide the query to retrieve the requested information:\n",
    "\n",
    "    \"\"\"\n",
    "\n",
    "    sql_prompt = PromptTemplate(template=query_template, input_variables=[\"Table\", \"question\", \"Columns\"])\n",
    "\n",
    "    # Generate SQL Query\n",
    "    def get_sql_query(table, question, columns):\n",
    "        llm_chain = LLMChain(prompt=sql_prompt, llm=llm_code)\n",
    "        response = llm_chain.run({\"Table\": table, \"question\": question, \"Columns\": columns})\n",
    "        return response\n",
    "\n",
    "    query = get_sql_query(table, question, columns)\n",
    "    # Format Query\n",
    "    formatted_query = format_snowflake_query(query, columns)\n",
    "\n",
    "    # Execute Query\n",
    "    try:\n",
    "        query_result = execute_snowflake_query(formatted_query, sf_dict)\n",
    "    except Exception as e:\n",
    "        query_result = f\"Error: {e}\"\n",
    "\n",
    "    # Generate answer from questions and query result\n",
    "    def convert_sql_response_to_english(question, query_result):\n",
    "\n",
    "        # Answer Prompts\n",
    "        answer_template1 = \"\"\"\n",
    "        Given a question and the result of an SQL query, your task is to convert them into plain English format. You are to provide a human-readable explanation that accurately conveys the meaning of the question and the information contained in the query result. \\n\n",
    "        \n",
    "        Example 1:\n",
    "        Question: \"What is the average total delivery cases?\"\n",
    "        Query Result: [(\"QuarterTotalDeliveryCases\": 256)]\n",
    "\n",
    "        Plain English Representation: \"The average of total delivery cases is 256.\"\n",
    "\n",
    "        Example 2:\n",
    "        Question: \"What are the total number of row counts?\"\n",
    "        Query Result: [(\"Count\": \"660\")]\n",
    "\n",
    "        Plain English Representation: \"The total number of row counts is 660.\"\n",
    "\n",
    "        Example 3:\n",
    "        Question: \"What is the Count of unique 'TrademarkID'?\"\n",
    "        Query Result: [(\"TrademarkID\": 50)]\n",
    "\n",
    "        Plain English Representation: \"The count of unique 'TrademarkID' is 50.\" \\n\n",
    "\n",
    "        Question: {question}\\n\n",
    "        Query result: {query_result}\\n\\n\n",
    "        \n",
    "        Plain English Explanation:\n",
    "        \"\"\"\n",
    "\n",
    "        answer_template2 = \"\"\"\n",
    "            Translate given question into a statement.\\n\\n\n",
    "            Example 1-\\n\n",
    "            Question: What is the sales for brands last year?\\n\n",
    "            Answer: Sales for brands in last year is:\\n\\n\n",
    "            Example 2-\\n\n",
    "            Question: What is the weekly avergae sale for this year?\\n\n",
    "            Answer: Weekly average sale for this year is:\\n\\n\n",
    "            Example 3-\\n\n",
    "            Question: Show all unique trademark ids starting with `A` along with it's description.\\n\n",
    "            Answer: Below is a list of all unique trademark ids starting with `A` along with it's description:\\n\\n\n",
    "\n",
    "            Question: {question}\\n\\n\\n\n",
    "            Answer:\n",
    "            \"\"\"\n",
    "        if len(query_result) == 1:\n",
    "            answer_prompt = PromptTemplate(template=answer_template1, input_variables=[\"query_result\", \"question\"])\n",
    "            llm_chain = LLMChain(prompt=answer_prompt, llm=llm_text)\n",
    "            response = llm_chain.run({\"query_result\": query_result, \"question\": question})\n",
    "        else:\n",
    "            answer_prompt = PromptTemplate(template=answer_template2, input_variables=[\"question\"])\n",
    "            llm_chain = LLMChain(prompt=answer_prompt, llm=llm_text)\n",
    "            response = llm_chain.run({\"query_result\": query_result, \"question\": question})\n",
    "        return response\n",
    "\n",
    "    response = convert_sql_response_to_english(question, query_result)\n",
    "    return formatted_query, response, query_result\n",
    "\n",
    "\n",
    "def return_schema_df(db_details_query, sf_dict):\n",
    "    df = execute_snowflake_query(db_details_query, sf_dict)\n",
    "    return df"
   ]
  },
  {
   "cell_type": "code",
   "execution_count": 13,
   "id": "8de611d9-e649-4e08-9ded-30c3af7c07cb",
   "metadata": {},
   "outputs": [],
   "source": [
    "question1 = \"What is the average of sales price?\"\n",
    "question2 = \"What are the sold date wise averages of quantity?\"\n",
    "question3 = \"How many unique bill addresses are there?\"\n",
    "question4 = \"What is max discount amount?\"\n",
    "question5 = \"What are 5 lowest wholesale cost?\""
   ]
  },
  {
   "cell_type": "code",
   "execution_count": 14,
   "id": "f483e8e0-c961-47af-b71c-6e676950b4a3",
   "metadata": {},
   "outputs": [
    {
     "name": "stdout",
     "output_type": "stream",
     "text": [
      "Question: What is the average of sales price? \n",
      " Snowflake Query: (SELECT AVG(CS_SALES_PRICE) FROM \"SNOWFLAKE_SAMPLE_DATA\".\"TPCDS_SF10TCL\".\"CATALOG_SALES\"); \n",
      " Query Result:   AVG(CS_SALES_PRICE)\n",
      "0         50.49307022 \n",
      " Response: \n",
      "        The average sales price is 50.49307022\n"
     ]
    }
   ],
   "source": [
    "formatted_query1, response1, query_result1 = results_from_snowflake(question1, sf_dict, table, columns)\n",
    "print(\"Question:\", question1, \"\\n\",\"Snowflake Query:\", formatted_query1, \"\\n\", \"Query Result:\", query_result1, \"\\n\",\"Response:\", response1)"
   ]
  },
  {
   "cell_type": "code",
   "execution_count": 16,
   "id": "8fd7ae3a-f95f-4dfa-86a9-d00bdf4a9908",
   "metadata": {},
   "outputs": [
    {
     "name": "stdout",
     "output_type": "stream",
     "text": [
      "Question: What are the sold date wise averages of quantity? \n",
      " Snowflake Query: SEL AVG(Quantity) , Sold Date FROM (SELECT \"CS_SOLD_DATE_SK\" , \"CS_SOLD_TIME_SK\" , \"CS_QUANTITY\" FROM table_name) GROUP BY \"CS_SOLD_DATE_SK\"; \n",
      " Query Result: Error: 001003 (42000): SQL compilation error:\n",
      "syntax error line 1 at position 0 unexpected 'SEL'. \n",
      " Response:  The sold date wise averages of quantity are:\n"
     ]
    }
   ],
   "source": [
    "formatted_query2, response2, query_result2 = results_from_snowflake(question2, sf_dict, table, columns)\n",
    "print(\"Question:\", question2, \"\\n\",\"Snowflake Query:\", formatted_query2, \"\\n\", \"Query Result:\", query_result2, \"\\n\",\"Response:\", response2)"
   ]
  },
  {
   "cell_type": "code",
   "execution_count": 18,
   "id": "a74b4012",
   "metadata": {},
   "outputs": [
    {
     "name": "stdout",
     "output_type": "stream",
     "text": [
      "Question: What is max discount amount? \n",
      " Snowflake Query: (SELECT MAX(\"CS_EXT_DISCOUNT_AMT\") FROM \"SNOWFLAKE_SAMPLE_DATA\".\"TPCDS_SF10TCL\".\"CATALOG_SALES\"); \n",
      " Query Result:   MAX(\"CS_EXT_DISCOUNT_AMT\")\n",
      "0                   29982.00 \n",
      " Response: \n",
      "        The maximum discount amount is $29,982.\n"
     ]
    }
   ],
   "source": [
    "formatted_query3, response3, query_result3 = results_from_snowflake(question4, sf_dict, table, columns)\n",
    "print(\"Question:\", question4, \"\\n\",\"Snowflake Query:\", formatted_query3, \"\\n\", \"Query Result:\", query_result3, \"\\n\",\"Response:\", response3)"
   ]
  },
  {
   "cell_type": "code",
   "execution_count": null,
   "id": "352365da",
   "metadata": {},
   "outputs": [],
   "source": []
  }
 ],
 "metadata": {
  "environment": {
   "kernel": "python310",
   "name": "common-cpu.m108",
   "type": "gcloud",
   "uri": "gcr.io/deeplearning-platform-release/base-cpu:m108"
  },
  "kernelspec": {
   "display_name": "Python 3 (ipykernel)",
   "language": "python",
   "name": "python3"
  },
  "language_info": {
   "codemirror_mode": {
    "name": "ipython",
    "version": 3
   },
   "file_extension": ".py",
   "mimetype": "text/x-python",
   "name": "python",
   "nbconvert_exporter": "python",
   "pygments_lexer": "ipython3",
   "version": "3.9.16"
  }
 },
 "nbformat": 4,
 "nbformat_minor": 5
}
